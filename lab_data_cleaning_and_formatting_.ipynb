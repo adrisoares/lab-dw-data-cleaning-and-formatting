{
  "cells": [
    {
      "cell_type": "markdown",
      "id": "25d7736c-ba17-4aff-b6bb-66eba20fbf4e",
      "metadata": {
        "id": "25d7736c-ba17-4aff-b6bb-66eba20fbf4e"
      },
      "source": [
        "# Lab | Data Cleaning and Formatting"
      ]
    },
    {
      "cell_type": "markdown",
      "id": "d1973e9e-8be6-4039-b70e-d73ee0d94c99",
      "metadata": {
        "id": "d1973e9e-8be6-4039-b70e-d73ee0d94c99"
      },
      "source": [
        "In this lab, we will be working with the customer data from an insurance company, which can be found in the CSV file located at the following link: https://raw.githubusercontent.com/data-bootcamp-v4/data/main/file1.csv\n"
      ]
    },
    {
      "cell_type": "markdown",
      "id": "31b8a9e7-7db9-4604-991b-ef6771603e57",
      "metadata": {
        "id": "31b8a9e7-7db9-4604-991b-ef6771603e57"
      },
      "source": [
        "# Challenge 1: Data Cleaning and Formatting"
      ]
    },
    {
      "cell_type": "markdown",
      "id": "81553f19-9f2c-484b-8940-520aff884022",
      "metadata": {
        "id": "81553f19-9f2c-484b-8940-520aff884022"
      },
      "source": [
        "## Exercise 1: Cleaning Column Names"
      ]
    },
    {
      "cell_type": "markdown",
      "id": "34a929f4-1be4-4fa8-adda-42ffd920be90",
      "metadata": {
        "id": "34a929f4-1be4-4fa8-adda-42ffd920be90"
      },
      "source": [
        "To ensure consistency and ease of use, standardize the column names of the dataframe. Start by taking a first look at the dataframe and identifying any column names that need to be modified. Use appropriate naming conventions and make sure that column names are descriptive and informative.\n",
        "\n",
        "*Hint*:\n",
        "- *Column names should be in lower case*\n",
        "- *White spaces in column names should be replaced by `_`*\n",
        "- *`st` could be replaced for `state`*"
      ]
    },
    {
      "cell_type": "code",
      "execution_count": 1,
      "id": "5810735c-8056-4442-bbf2-dda38d3e284a",
      "metadata": {
        "id": "5810735c-8056-4442-bbf2-dda38d3e284a",
        "colab": {
          "base_uri": "https://localhost:8080/"
        },
        "outputId": "f6d52051-20e2-4c24-c171-2d1280499e86"
      },
      "outputs": [
        {
          "output_type": "execute_result",
          "data": {
            "text/plain": [
              "Index(['Customer', 'ST', 'GENDER', 'Education', 'Customer Lifetime Value',\n",
              "       'Income', 'Monthly Premium Auto', 'Number of Open Complaints',\n",
              "       'Policy Type', 'Vehicle Class', 'Total Claim Amount'],\n",
              "      dtype='object')"
            ]
          },
          "metadata": {},
          "execution_count": 1
        }
      ],
      "source": [
        "# pre - # 1.\n",
        "import pandas as pd\n",
        "\n",
        "url = 'https://raw.githubusercontent.com/data-bootcamp-v4/data/main/file1.csv'\n",
        "df = pd.read_csv(url)\n",
        "\n",
        "#df.head()\n",
        "df.columns\n"
      ]
    },
    {
      "cell_type": "code",
      "source": [
        "# 1. My first aproach\n",
        "#df.rename(columns= {'Customer': 'customer'}, inplace=True)\n",
        "#df.rename(columns= {'State': 'state'}, inplace=True)\n",
        "#df.rename(columns= {'Educational attainment': 'EDUCATION'}, inplace=True)\n",
        "#df.rename(columns= {'Gender': 'gender'}, inplace=True)\n",
        "#df.rename(columns= {'Customer Lifetime Value': 'customer_lifetime_value'}, inplace=True)\n",
        "#df.rename(columns= {'Income': 'income'}, inplace=True)\n",
        "#df.rename(columns= {'Monthly Premium Auto': 'monthly_premium_auto'}, inplace=True)\n",
        "#df.rename(columns= {'Number of Open Complaints': 'number_open_complaints'}, inplace=True)\n",
        "#df.rename(columns= {'Policy Type': 'policy_Type'}, inplace=True)\n",
        "#df.rename(columns= {'Vehicle Class': 'vehicle_class'}, inplace=True)\n",
        "#df.rename(columns= {'Total Claim Amount': 'total_claim_amount'}, inplace=True)"
      ],
      "metadata": {
        "id": "L3C8Q8XFdsvg"
      },
      "id": "L3C8Q8XFdsvg",
      "execution_count": 2,
      "outputs": []
    },
    {
      "cell_type": "code",
      "source": [
        "# 1. 2nd approach\n",
        "# Going to change first the thing that cannot be automated - changing name\n",
        "df.rename(columns= {'ST': 'state'}, inplace=True)\n",
        "df.columns"
      ],
      "metadata": {
        "id": "6Quf_zYafnAc",
        "colab": {
          "base_uri": "https://localhost:8080/"
        },
        "outputId": "2cecb747-4a30-4459-ec74-c5b9b23d492f"
      },
      "id": "6Quf_zYafnAc",
      "execution_count": 3,
      "outputs": [
        {
          "output_type": "execute_result",
          "data": {
            "text/plain": [
              "Index(['Customer', 'state', 'GENDER', 'Education', 'Customer Lifetime Value',\n",
              "       'Income', 'Monthly Premium Auto', 'Number of Open Complaints',\n",
              "       'Policy Type', 'Vehicle Class', 'Total Claim Amount'],\n",
              "      dtype='object')"
            ]
          },
          "metadata": {},
          "execution_count": 3
        }
      ]
    },
    {
      "cell_type": "code",
      "source": [
        "new_columns = []\n",
        "for name in df.columns:\n",
        "    name = name.lower().replace(' ', '_')\n",
        "    new_columns.append(name)\n",
        "\n",
        "# Assign the updated column names to the DataFrame\n",
        "df.columns = (new_columns)\n",
        "df.columns"
      ],
      "metadata": {
        "id": "NFSKIrKiskOi",
        "colab": {
          "base_uri": "https://localhost:8080/"
        },
        "outputId": "caeea298-5451-4a55-9873-d4b19afbead8"
      },
      "id": "NFSKIrKiskOi",
      "execution_count": 4,
      "outputs": [
        {
          "output_type": "execute_result",
          "data": {
            "text/plain": [
              "Index(['customer', 'state', 'gender', 'education', 'customer_lifetime_value',\n",
              "       'income', 'monthly_premium_auto', 'number_of_open_complaints',\n",
              "       'policy_type', 'vehicle_class', 'total_claim_amount'],\n",
              "      dtype='object')"
            ]
          },
          "metadata": {},
          "execution_count": 4
        }
      ]
    },
    {
      "cell_type": "code",
      "source": [
        "df.head(0)"
      ],
      "metadata": {
        "id": "b5UERvPmmHoN",
        "colab": {
          "base_uri": "https://localhost:8080/",
          "height": 53
        },
        "outputId": "fd130131-83cb-484c-c2ec-aadf0822e6ea"
      },
      "id": "b5UERvPmmHoN",
      "execution_count": 5,
      "outputs": [
        {
          "output_type": "execute_result",
          "data": {
            "text/plain": [
              "Empty DataFrame\n",
              "Columns: [customer, state, gender, education, customer_lifetime_value, income, monthly_premium_auto, number_of_open_complaints, policy_type, vehicle_class, total_claim_amount]\n",
              "Index: []"
            ],
            "text/html": [
              "\n",
              "  <div id=\"df-93781c5f-90aa-4b5b-bcd9-2c44aeed4212\" class=\"colab-df-container\">\n",
              "    <div>\n",
              "<style scoped>\n",
              "    .dataframe tbody tr th:only-of-type {\n",
              "        vertical-align: middle;\n",
              "    }\n",
              "\n",
              "    .dataframe tbody tr th {\n",
              "        vertical-align: top;\n",
              "    }\n",
              "\n",
              "    .dataframe thead th {\n",
              "        text-align: right;\n",
              "    }\n",
              "</style>\n",
              "<table border=\"1\" class=\"dataframe\">\n",
              "  <thead>\n",
              "    <tr style=\"text-align: right;\">\n",
              "      <th></th>\n",
              "      <th>customer</th>\n",
              "      <th>state</th>\n",
              "      <th>gender</th>\n",
              "      <th>education</th>\n",
              "      <th>customer_lifetime_value</th>\n",
              "      <th>income</th>\n",
              "      <th>monthly_premium_auto</th>\n",
              "      <th>number_of_open_complaints</th>\n",
              "      <th>policy_type</th>\n",
              "      <th>vehicle_class</th>\n",
              "      <th>total_claim_amount</th>\n",
              "    </tr>\n",
              "  </thead>\n",
              "  <tbody>\n",
              "  </tbody>\n",
              "</table>\n",
              "</div>\n",
              "    <div class=\"colab-df-buttons\">\n",
              "\n",
              "  <div class=\"colab-df-container\">\n",
              "    <button class=\"colab-df-convert\" onclick=\"convertToInteractive('df-93781c5f-90aa-4b5b-bcd9-2c44aeed4212')\"\n",
              "            title=\"Convert this dataframe to an interactive table.\"\n",
              "            style=\"display:none;\">\n",
              "\n",
              "  <svg xmlns=\"http://www.w3.org/2000/svg\" height=\"24px\" viewBox=\"0 -960 960 960\">\n",
              "    <path d=\"M120-120v-720h720v720H120Zm60-500h600v-160H180v160Zm220 220h160v-160H400v160Zm0 220h160v-160H400v160ZM180-400h160v-160H180v160Zm440 0h160v-160H620v160ZM180-180h160v-160H180v160Zm440 0h160v-160H620v160Z\"/>\n",
              "  </svg>\n",
              "    </button>\n",
              "\n",
              "  <style>\n",
              "    .colab-df-container {\n",
              "      display:flex;\n",
              "      gap: 12px;\n",
              "    }\n",
              "\n",
              "    .colab-df-convert {\n",
              "      background-color: #E8F0FE;\n",
              "      border: none;\n",
              "      border-radius: 50%;\n",
              "      cursor: pointer;\n",
              "      display: none;\n",
              "      fill: #1967D2;\n",
              "      height: 32px;\n",
              "      padding: 0 0 0 0;\n",
              "      width: 32px;\n",
              "    }\n",
              "\n",
              "    .colab-df-convert:hover {\n",
              "      background-color: #E2EBFA;\n",
              "      box-shadow: 0px 1px 2px rgba(60, 64, 67, 0.3), 0px 1px 3px 1px rgba(60, 64, 67, 0.15);\n",
              "      fill: #174EA6;\n",
              "    }\n",
              "\n",
              "    .colab-df-buttons div {\n",
              "      margin-bottom: 4px;\n",
              "    }\n",
              "\n",
              "    [theme=dark] .colab-df-convert {\n",
              "      background-color: #3B4455;\n",
              "      fill: #D2E3FC;\n",
              "    }\n",
              "\n",
              "    [theme=dark] .colab-df-convert:hover {\n",
              "      background-color: #434B5C;\n",
              "      box-shadow: 0px 1px 3px 1px rgba(0, 0, 0, 0.15);\n",
              "      filter: drop-shadow(0px 1px 2px rgba(0, 0, 0, 0.3));\n",
              "      fill: #FFFFFF;\n",
              "    }\n",
              "  </style>\n",
              "\n",
              "    <script>\n",
              "      const buttonEl =\n",
              "        document.querySelector('#df-93781c5f-90aa-4b5b-bcd9-2c44aeed4212 button.colab-df-convert');\n",
              "      buttonEl.style.display =\n",
              "        google.colab.kernel.accessAllowed ? 'block' : 'none';\n",
              "\n",
              "      async function convertToInteractive(key) {\n",
              "        const element = document.querySelector('#df-93781c5f-90aa-4b5b-bcd9-2c44aeed4212');\n",
              "        const dataTable =\n",
              "          await google.colab.kernel.invokeFunction('convertToInteractive',\n",
              "                                                    [key], {});\n",
              "        if (!dataTable) return;\n",
              "\n",
              "        const docLinkHtml = 'Like what you see? Visit the ' +\n",
              "          '<a target=\"_blank\" href=https://colab.research.google.com/notebooks/data_table.ipynb>data table notebook</a>'\n",
              "          + ' to learn more about interactive tables.';\n",
              "        element.innerHTML = '';\n",
              "        dataTable['output_type'] = 'display_data';\n",
              "        await google.colab.output.renderOutput(dataTable, element);\n",
              "        const docLink = document.createElement('div');\n",
              "        docLink.innerHTML = docLinkHtml;\n",
              "        element.appendChild(docLink);\n",
              "      }\n",
              "    </script>\n",
              "  </div>\n",
              "\n",
              "    </div>\n",
              "  </div>\n"
            ]
          },
          "metadata": {},
          "execution_count": 5
        }
      ]
    },
    {
      "cell_type": "markdown",
      "id": "9cb501ec-36ff-4589-b872-6252bb150316",
      "metadata": {
        "id": "9cb501ec-36ff-4589-b872-6252bb150316"
      },
      "source": [
        "## Exercise 2: Cleaning invalid Values"
      ]
    },
    {
      "cell_type": "markdown",
      "id": "771fdcf3-8e20-4b06-9c24-3a93ba2b0909",
      "metadata": {
        "id": "771fdcf3-8e20-4b06-9c24-3a93ba2b0909"
      },
      "source": [
        "The dataset contains columns with inconsistent and incorrect values that could affect the accuracy of our analysis. Therefore, we need to clean these columns to ensure that they only contain valid data.\n",
        "\n",
        "Note that this exercise will focus only on cleaning inconsistent values and will not involve handling null values (NaN or None).\n",
        "\n",
        "*Hint*:\n",
        "- *Gender column contains various inconsistent values such as \"F\", \"M\", \"Femal\", \"Male\", \"female\", which need to be standardized, for example, to \"M\" and \"F\".*\n",
        "- *State abbreviations be can replaced with its full name, for example \"AZ\": \"Arizona\", \"Cali\": \"California\", \"WA\": \"Washington\"*\n",
        "- *In education, \"Bachelors\" could be replaced by \"Bachelor\"*\n",
        "- *In Customer Lifetime Value, delete the `%` character*\n",
        "- *In vehicle class, \"Sports Car\", \"Luxury SUV\" and \"Luxury Car\" could be replaced by \"Luxury\"*"
      ]
    },
    {
      "cell_type": "code",
      "source": [
        "# Gender column contains various inconsistent which need to be standardized, for example, to \"M\" and \"F\".\n",
        "df[\"gender\"].unique() # gives you the specified\n",
        "df[\"gender\"].nunique() # #unique variables, not counting NaNs\n",
        "df[\"gender\"].value_counts() #### does not give you the null values, just skip it"
      ],
      "metadata": {
        "id": "QHywhH0zIJip"
      },
      "id": "QHywhH0zIJip",
      "execution_count": null,
      "outputs": []
    },
    {
      "cell_type": "code",
      "source": [
        "df['gender'] = df['gender'].replace([ 'female', 'Femal'], 'F', regex=True)\n",
        "df['gender'] = df['gender'].replace([ 'Male'], 'M', regex=True)\n",
        "print(\"Standardized:\")\n",
        "df[\"gender\"].value_counts()"
      ],
      "metadata": {
        "id": "A5GhaDWorLHD"
      },
      "id": "A5GhaDWorLHD",
      "execution_count": null,
      "outputs": []
    },
    {
      "cell_type": "code",
      "source": [
        "# State abbreviations should be replaced with \"AZ\": \"Arizona\", \"Cali\": \"California\", \"WA\": \"Washington\"\n",
        "# Creating a dict turns out to be more simple :\n",
        "\n",
        "state_name = {\"AZ\": \"Arizona\",\n",
        "              \"Cali\": \"California\",\n",
        "              \"WA\": \"Washington\" }\n",
        "\n",
        "df['state'].replace(state_name, inplace=True)\n",
        "print(\"States full name replaced:\")\n",
        "df[\"state\"].value_counts()"
      ],
      "metadata": {
        "id": "CZ0I1uVQjXLw"
      },
      "id": "CZ0I1uVQjXLw",
      "execution_count": null,
      "outputs": []
    },
    {
      "cell_type": "code",
      "source": [
        "# In education, \"Bachelors\" could be replaced by \"Bachelor\"\n",
        "\n",
        "education_name = {\"Bachelors\":\"Bachelor\"}\n",
        "df['education'].replace(education_name, inplace=True)\n",
        "print(\"Education now corrected:\")\n",
        "df[\"education\"].value_counts()"
      ],
      "metadata": {
        "id": "OIsmL2-1NHfk"
      },
      "id": "OIsmL2-1NHfk",
      "execution_count": null,
      "outputs": []
    },
    {
      "cell_type": "code",
      "source": [
        "# In Customer Lifetime Value, delete the % character\n",
        "df.head(5)"
      ],
      "metadata": {
        "id": "i-gPP0bgNHTl"
      },
      "id": "i-gPP0bgNHTl",
      "execution_count": null,
      "outputs": []
    },
    {
      "cell_type": "code",
      "source": [
        "# replace method for % to turn into nothing()\n",
        "df[\"customer_lifetime_value\"] = df[\"customer_lifetime_value\"].str.replace(\"%\", \"\")\n",
        "df[\"customer_lifetime_value\"]"
      ],
      "metadata": {
        "colab": {
          "base_uri": "https://localhost:8080/"
        },
        "id": "AT_EwQEPT1uD",
        "outputId": "f6072f61-d566-4e54-d1e5-34541a1c69b8"
      },
      "id": "AT_EwQEPT1uD",
      "execution_count": 11,
      "outputs": [
        {
          "output_type": "execute_result",
          "data": {
            "text/plain": [
              "0              NaN\n",
              "1        697953.59\n",
              "2       1288743.17\n",
              "3        764586.18\n",
              "4        536307.65\n",
              "           ...    \n",
              "4003           NaN\n",
              "4004           NaN\n",
              "4005           NaN\n",
              "4006           NaN\n",
              "4007           NaN\n",
              "Name: customer_lifetime_value, Length: 4008, dtype: object"
            ]
          },
          "metadata": {},
          "execution_count": 11
        }
      ]
    },
    {
      "cell_type": "code",
      "source": [
        "# In vehicle class, \"Sports Car\", \"Luxury SUV\" and \"Luxury Car\" could be replaced by \"Luxury\"\n",
        "\n",
        "car_name = {\"Sports Car\": \"Luxury\",\n",
        "            \"Luxury SUV\": \"Luxury\",\n",
        "            \"Luxury Car\": \"Luxury\"}\n",
        "\n",
        "df[\"vehicle_class\"].replace(car_name, inplace=True)\n",
        "print(\"Car class updated:\")\n",
        "df[\"vehicle_class\"].value_counts()"
      ],
      "metadata": {
        "id": "lt6ZFQRJSb3U",
        "colab": {
          "base_uri": "https://localhost:8080/"
        },
        "outputId": "2b4ce648-9cbb-4e60-c26d-06cd0daac2ff"
      },
      "id": "lt6ZFQRJSb3U",
      "execution_count": 12,
      "outputs": [
        {
          "output_type": "stream",
          "name": "stdout",
          "text": [
            "Car class updated:\n"
          ]
        },
        {
          "output_type": "execute_result",
          "data": {
            "text/plain": [
              "Four-Door Car    576\n",
              "Two-Door Car     205\n",
              "SUV              199\n",
              "Luxury            91\n",
              "Name: vehicle_class, dtype: int64"
            ]
          },
          "metadata": {},
          "execution_count": 12
        }
      ]
    },
    {
      "cell_type": "markdown",
      "id": "85ff78ce-0174-4890-9db3-8048b7d7d2d0",
      "metadata": {
        "id": "85ff78ce-0174-4890-9db3-8048b7d7d2d0"
      },
      "source": [
        "## Exercise 3: Formatting data types"
      ]
    },
    {
      "cell_type": "markdown",
      "id": "b91c2cf8-79a2-4baf-9f65-ff2fb22270bd",
      "metadata": {
        "id": "b91c2cf8-79a2-4baf-9f65-ff2fb22270bd"
      },
      "source": [
        "The data types of many columns in the dataset appear to be incorrect. This could impact the accuracy of our analysis. To ensure accurate analysis, we need to correct the data types of these columns. Please update the data types of the columns as appropriate."
      ]
    },
    {
      "cell_type": "markdown",
      "id": "43e5d853-ff9e-43b2-9d92-aef2f78764f3",
      "metadata": {
        "id": "43e5d853-ff9e-43b2-9d92-aef2f78764f3"
      },
      "source": [
        "It is important to note that this exercise does not involve handling null values (NaN or None)."
      ]
    },
    {
      "cell_type": "markdown",
      "id": "329ca691-9196-4419-8969-3596746237a1",
      "metadata": {
        "id": "329ca691-9196-4419-8969-3596746237a1"
      },
      "source": [
        "*Hint*:\n",
        "- *Customer lifetime value should be numeric*\n",
        "- *Number of open complaints has an incorrect format. Look at the different values it takes with `unique()` and take the middle value. As an example, 1/5/00 should be 5. Number of open complaints is a string - remember you can use `split()` to deal with it and take the number you need. Finally, since it should be numeric, cast the column to be in its proper type.*"
      ]
    },
    {
      "cell_type": "code",
      "execution_count": null,
      "id": "eb8f5991-73e9-405f-bf1c-6b7c589379a9",
      "metadata": {
        "id": "eb8f5991-73e9-405f-bf1c-6b7c589379a9"
      },
      "outputs": [],
      "source": [
        "df.head(4)"
      ]
    },
    {
      "cell_type": "code",
      "source": [
        "df[\"customer_lifetime_value\"] = pd.to_numeric(df[\"customer_lifetime_value\"], errors='coerce') #just googled this one. Didn't know how to change\n",
        "df.dtypes"
      ],
      "metadata": {
        "id": "UDu5f8GxWPpA"
      },
      "id": "UDu5f8GxWPpA",
      "execution_count": null,
      "outputs": []
    },
    {
      "cell_type": "code",
      "source": [
        "# Number of open complaints has an incorrect format. Look at the different values it takes with unique() and take the middle value.\n",
        "# As an example, 1/5/00 should be 5. Number of open complaints is a string - remember you can use split() to deal with it and take the number you need."
      ],
      "metadata": {
        "id": "8wb13HuFWPuQ"
      },
      "id": "8wb13HuFWPuQ",
      "execution_count": 15,
      "outputs": []
    },
    {
      "cell_type": "code",
      "source": [
        "df[\"number_of_open_complaints\"].unique()"
      ],
      "metadata": {
        "id": "kYcRd4tKYQ8n"
      },
      "id": "kYcRd4tKYQ8n",
      "execution_count": null,
      "outputs": []
    },
    {
      "cell_type": "code",
      "source": [
        "df[\"number_of_open_complaints\"] = df[\"number_of_open_complaints\"].astype(\"object\") #just googled this one. Didn't remeber this one\n",
        "df.dtypes"
      ],
      "metadata": {
        "id": "EshHz3nAePKA"
      },
      "id": "EshHz3nAePKA",
      "execution_count": null,
      "outputs": []
    },
    {
      "cell_type": "code",
      "source": [
        "df.dropna(subset = [\"number_of_open_complaints\"], inplace=True)\n",
        "\n",
        "df[\"number_of_open_complaints\"]."
      ],
      "metadata": {
        "id": "3oLYvjx4ddAc",
        "colab": {
          "base_uri": "https://localhost:8080/"
        },
        "outputId": "6fc11631-30dc-43de-d0bd-20a7e712c95f"
      },
      "id": "3oLYvjx4ddAc",
      "execution_count": 30,
      "outputs": [
        {
          "output_type": "execute_result",
          "data": {
            "text/plain": [
              "(1071,)"
            ]
          },
          "metadata": {},
          "execution_count": 30
        }
      ]
    },
    {
      "cell_type": "code",
      "source": [
        "def midlle_number(row): ############## Lera helped me, for God sake\n",
        "  return row.split(\"/\")[1]\n",
        "\n",
        "df[\"number_of_open_complaints\"].apply(midlle_number)"
      ],
      "metadata": {
        "id": "iJJx15agg6Dc"
      },
      "id": "iJJx15agg6Dc",
      "execution_count": null,
      "outputs": []
    },
    {
      "cell_type": "code",
      "source": [
        "df['number_of_open_complaints'] = df['number_of_open_complaints']\n",
        "df[\"number_of_open_complaints\"].value_counts()"
      ],
      "metadata": {
        "id": "8jWmjkJOZSgh"
      },
      "id": "8jWmjkJOZSgh",
      "execution_count": null,
      "outputs": []
    },
    {
      "cell_type": "markdown",
      "id": "14c52e28-2d0c-4dd2-8bd5-3476e34fadc1",
      "metadata": {
        "id": "14c52e28-2d0c-4dd2-8bd5-3476e34fadc1"
      },
      "source": [
        "## Exercise 4: Dealing with Null values"
      ]
    },
    {
      "cell_type": "markdown",
      "id": "34b9a20f-7d32-4417-975e-1b4dfb0e16cd",
      "metadata": {
        "id": "34b9a20f-7d32-4417-975e-1b4dfb0e16cd"
      },
      "source": [
        "Identify any columns with null or missing values. Identify how many null values each column has. You can use the `isnull()` function in pandas to find columns with null values.\n",
        "\n",
        "Decide on a strategy for handling the null values. There are several options, including:\n",
        "\n",
        "- Drop the rows or columns with null values\n",
        "- Fill the null values with a specific value (such as the column mean or median for numerical variables, and mode for categorical variables)\n",
        "- Fill the null values with the previous or next value in the column\n",
        "- Fill the null values based on a more complex algorithm or model (note: we haven't covered this yet)\n",
        "\n",
        "Implement your chosen strategy to handle the null values. You can use the `fillna()` function in pandas to fill null values or `dropna()` function to drop null values.\n",
        "\n",
        "Verify that your strategy has successfully handled the null values. You can use the `isnull()` function again to check if there are still null values in the dataset.\n",
        "\n",
        "Remember to document your process and explain your reasoning for choosing a particular strategy for handling null values.\n",
        "\n",
        "After formatting data types, as a last step, convert all the numeric variables to integers using `applymap()`."
      ]
    },
    {
      "cell_type": "code",
      "execution_count": null,
      "id": "f184fc35-7831-4836-a0a5-e7f99e01b40e",
      "metadata": {
        "id": "f184fc35-7831-4836-a0a5-e7f99e01b40e"
      },
      "outputs": [],
      "source": [
        "print(f\"The current shape of our dataframe is {df.shape}\")"
      ]
    },
    {
      "cell_type": "code",
      "source": [
        "df.head()"
      ],
      "metadata": {
        "id": "45ljxe16PfwC"
      },
      "id": "45ljxe16PfwC",
      "execution_count": null,
      "outputs": []
    },
    {
      "cell_type": "code",
      "source": [
        "#1 Check for null values in the DataFrame using isna() or isnull().\n",
        "df.isnull().sum()"
      ],
      "metadata": {
        "id": "PpVSPX32iQ9H"
      },
      "id": "PpVSPX32iQ9H",
      "execution_count": null,
      "outputs": []
    },
    {
      "cell_type": "code",
      "source": [
        "#df.shape\n",
        "x = 4008 - 2937\n",
        "x # i think this is a good sample, 1071 rows"
      ],
      "metadata": {
        "id": "ukwKEq5CjZNo"
      },
      "id": "ukwKEq5CjZNo",
      "execution_count": null,
      "outputs": []
    },
    {
      "cell_type": "code",
      "source": [
        "df.dropna(subset = [\"customer\"], inplace=True) # as belas 1071 rows!\n",
        "#fiz dropna no customer pq se não houver id. de customer não tem grande finalidade de analise para a seguradora\n",
        "\n",
        "df[\"customer\"].describe()"
      ],
      "metadata": {
        "id": "M78kpFMBnD82"
      },
      "id": "M78kpFMBnD82",
      "execution_count": null,
      "outputs": []
    },
    {
      "cell_type": "code",
      "source": [
        "print(f\"The current shape of our dataframe is {df.shape}\")\n",
        "df.isnull().sum()\n",
        "# So let's take a look at gender and customer_lifetime_value"
      ],
      "metadata": {
        "id": "e1rVovThNoCE"
      },
      "id": "e1rVovThNoCE",
      "execution_count": null,
      "outputs": []
    },
    {
      "cell_type": "code",
      "source": [
        "# Fill the null values with a specific value\n",
        "# (such as the column mean or median for numerical variables, and mode for categorical variables)"
      ],
      "metadata": {
        "id": "ApaHgPDYoGxP"
      },
      "id": "ApaHgPDYoGxP",
      "execution_count": null,
      "outputs": []
    },
    {
      "cell_type": "code",
      "source": [
        "# So let's clean up the customer_lifetime_value column\n",
        "print(df[\"customer_lifetime_value\"].describe())\n",
        "\n",
        "# for the 3 missing values I will assign the mean of \"customer_lifetime_value\"\n",
        "clv_mean = (df[\"customer_lifetime_value\"].mean())\n",
        "print(\"Mean is\", (clv_mean))"
      ],
      "metadata": {
        "id": "LT4j2s6m4HzA"
      },
      "id": "LT4j2s6m4HzA",
      "execution_count": null,
      "outputs": []
    },
    {
      "cell_type": "code",
      "source": [
        "df[\"customer_lifetime_value\"].fillna(clv_mean, inplace=True)\n",
        "df.isnull().sum()"
      ],
      "metadata": {
        "id": "dnlUi5brQJn7"
      },
      "id": "dnlUi5brQJn7",
      "execution_count": null,
      "outputs": []
    },
    {
      "cell_type": "code",
      "source": [
        "# Now for the gender column, I haver decided NOT assign the F to all those 117 nulls in gender.\n",
        "# For several years I have seen \"Other\" in gender column, so that's what I'll assign: we should have to \"not relate\" to F or M.\n",
        "\n",
        "df[\"gender\"].fillna(\"other\", inplace=True)\n",
        "\n",
        "print(\"'Gender' column updated\")\n",
        "df[\"gender\"].value_counts()"
      ],
      "metadata": {
        "id": "r5pa4bQWiQ1p"
      },
      "id": "r5pa4bQWiQ1p",
      "execution_count": null,
      "outputs": []
    },
    {
      "cell_type": "markdown",
      "id": "98416351-e999-4156-9834-9b00a311adfa",
      "metadata": {
        "id": "98416351-e999-4156-9834-9b00a311adfa"
      },
      "source": [
        "## Exercise 5: Dealing with duplicates"
      ]
    },
    {
      "cell_type": "markdown",
      "id": "ea0816a7-a18e-4d4c-b667-a8452a800bd1",
      "metadata": {
        "id": "ea0816a7-a18e-4d4c-b667-a8452a800bd1"
      },
      "source": [
        "Use the `.duplicated()` method to identify any duplicate rows in the dataframe.\n",
        "\n",
        "Decide on a strategy for handling the duplicates. Options include:\n",
        "- Dropping all duplicate rows\n",
        "- Keeping only the first occurrence of each duplicated row\n",
        "- Keeping only the last occurrence of each duplicated row\n",
        "- Dropping duplicates based on a subset of columns\n",
        "- Dropping duplicates based on a specific column\n",
        "\n",
        "Implement your chosen strategy using the `drop_duplicates()` function.\n",
        "\n",
        "Verify that your strategy has successfully handled the duplicates by checking for duplicates again using `.duplicated()`.\n",
        "\n",
        "Remember to document your process and explain your reasoning for choosing a particular strategy for handling duplicates.\n",
        "\n",
        "Save the cleaned dataset to a new CSV file.\n",
        "\n",
        "*Hint*: *after dropping duplicates, reset the index to ensure consistency*."
      ]
    },
    {
      "cell_type": "code",
      "execution_count": null,
      "id": "1929362c-47ed-47cb-baca-358b78d401a0",
      "metadata": {
        "id": "1929362c-47ed-47cb-baca-358b78d401a0"
      },
      "outputs": [],
      "source": [
        "# Identify any duplicate rows in the dataframe.\n",
        "df.duplicated().sum() # SnoopDog Dancing"
      ]
    },
    {
      "cell_type": "code",
      "source": [
        "#Dropping all duplicate rows\n",
        "df.drop_duplicates(inplace=True)"
      ],
      "metadata": {
        "id": "GbQm1HbcSnwK"
      },
      "id": "GbQm1HbcSnwK",
      "execution_count": null,
      "outputs": []
    },
    {
      "cell_type": "code",
      "source": [
        "#Keeping only the first occurrence of each duplicated row\n",
        "df.drop_duplicates(keep=\"last\", inplace=True)"
      ],
      "metadata": {
        "id": "MYIKNByeSvNB"
      },
      "id": "MYIKNByeSvNB",
      "execution_count": null,
      "outputs": []
    },
    {
      "cell_type": "code",
      "source": [
        "#Keeping only the last occurrence of each duplicated row\n",
        "df.drop_duplicates(keep=\"last\", inplace=True)"
      ],
      "metadata": {
        "id": "9ZEByV0WSvKx"
      },
      "id": "9ZEByV0WSvKx",
      "execution_count": null,
      "outputs": []
    },
    {
      "cell_type": "code",
      "source": [
        "# Dropping duplicates based on a subset of columns\n",
        "df.drop_duplicates(subset=[\"gender\", \"income\"])"
      ],
      "metadata": {
        "id": "qEjut4UoSvIm"
      },
      "id": "qEjut4UoSvIm",
      "execution_count": null,
      "outputs": []
    },
    {
      "cell_type": "code",
      "source": [
        "# Drop the column\n",
        "df.drop(\"Column Name\", axis=1)"
      ],
      "metadata": {
        "id": "K1On9I2WSnrd"
      },
      "id": "K1On9I2WSnrd",
      "execution_count": null,
      "outputs": []
    },
    {
      "cell_type": "code",
      "source": [
        "### Resetting the index\n",
        "df.reset_index()"
      ],
      "metadata": {
        "id": "vKG4xW_hSnos"
      },
      "id": "vKG4xW_hSnos",
      "execution_count": null,
      "outputs": []
    },
    {
      "cell_type": "markdown",
      "id": "60840701-4783-40e2-b4d8-55303f9100c9",
      "metadata": {
        "id": "60840701-4783-40e2-b4d8-55303f9100c9"
      },
      "source": [
        "# Bonus: Challenge 2: creating functions on a separate `py` file"
      ]
    },
    {
      "cell_type": "markdown",
      "id": "9d1adb3a-17cf-4899-8041-da21a4337fb4",
      "metadata": {
        "id": "9d1adb3a-17cf-4899-8041-da21a4337fb4"
      },
      "source": [
        "Put all the data cleaning and formatting steps into functions, and create a main function that performs all the cleaning and formatting.\n",
        "\n",
        "Write these functions in separate .py file(s). By putting these steps into functions, we can make the code more modular and easier to maintain."
      ]
    },
    {
      "cell_type": "markdown",
      "id": "0e170dc2-b62c-417a-8248-e63ed18a70c4",
      "metadata": {
        "id": "0e170dc2-b62c-417a-8248-e63ed18a70c4"
      },
      "source": [
        "*Hint: autoreload module is a utility module in Python that allows you to automatically reload modules in the current session when changes are made to the source code. This can be useful in situations where you are actively developing code and want to see the effects of changes you make without having to constantly restart the Python interpreter or Jupyter Notebook kernel.*"
      ]
    },
    {
      "cell_type": "code",
      "execution_count": null,
      "id": "a52c6dfc-cd11-4d01-bda4-f719fa33e9a4",
      "metadata": {
        "id": "a52c6dfc-cd11-4d01-bda4-f719fa33e9a4"
      },
      "outputs": [],
      "source": [
        "# Your code here"
      ]
    },
    {
      "cell_type": "markdown",
      "id": "80f846bb-3f5e-4ca2-96c0-900728daca5a",
      "metadata": {
        "tags": [],
        "id": "80f846bb-3f5e-4ca2-96c0-900728daca5a"
      },
      "source": [
        "# Bonus: Challenge 3: Analyzing Clean and Formated Data"
      ]
    },
    {
      "cell_type": "markdown",
      "id": "9021630e-cc90-446c-b5bd-264d6c864207",
      "metadata": {
        "id": "9021630e-cc90-446c-b5bd-264d6c864207"
      },
      "source": [
        "You have been tasked with analyzing the data to identify potential areas for improving customer retention and profitability. Your goal is to identify customers with a high policy claim amount and a low customer lifetime value.\n",
        "\n",
        "In the Pandas Lab, we only looked at high policy claim amounts because we couldn't look into low customer lifetime values. If we had tried to work with that column, we wouldn't have been able to because customer lifetime value wasn't clean and in its proper format. So after cleaning and formatting the data, let's get some more interesting insights!\n",
        "\n",
        "Instructions:\n",
        "\n",
        "- Review the statistics again for total claim amount and customer lifetime value to gain an understanding of the data.\n",
        "- To identify potential areas for improving customer retention and profitability, we want to focus on customers with a high policy claim amount and a low customer lifetime value. Consider customers with a high policy claim amount to be those in the top 25% of the total claim amount, and clients with a low customer lifetime value to be those in the bottom 25% of the customer lifetime value. Create a pandas DataFrame object that contains information about customers with a policy claim amount greater than the 75th percentile and a customer lifetime value in the bottom 25th percentile.\n",
        "- Use DataFrame methods to calculate summary statistics about the high policy claim amount and low customer lifetime value data. To do so, select both columns of the dataframe simultaneously and pass it to the `.describe()` method. This will give you descriptive statistics, such as mean, median, standard deviation, minimum and maximum values for both columns at the same time, allowing you to compare and analyze their characteristics."
      ]
    },
    {
      "cell_type": "code",
      "execution_count": null,
      "id": "211e82b5-461a-4d6f-8a23-4deccb84173c",
      "metadata": {
        "id": "211e82b5-461a-4d6f-8a23-4deccb84173c"
      },
      "outputs": [],
      "source": [
        "# Your code here"
      ]
    }
  ],
  "metadata": {
    "kernelspec": {
      "display_name": "Python 3 (ipykernel)",
      "language": "python",
      "name": "python3"
    },
    "language_info": {
      "codemirror_mode": {
        "name": "ipython",
        "version": 3
      },
      "file_extension": ".py",
      "mimetype": "text/x-python",
      "name": "python",
      "nbconvert_exporter": "python",
      "pygments_lexer": "ipython3",
      "version": "3.9.13"
    },
    "colab": {
      "provenance": []
    }
  },
  "nbformat": 4,
  "nbformat_minor": 5
}